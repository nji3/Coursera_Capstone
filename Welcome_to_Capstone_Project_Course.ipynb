{
  "nbformat": 4,
  "nbformat_minor": 0,
  "metadata": {
    "colab": {
      "name": " Welcome to Capstone Project Course.ipynb",
      "version": "0.3.2",
      "provenance": []
    },
    "kernelspec": {
      "name": "python3",
      "display_name": "Python 3"
    }
  },
  "cells": [
    {
      "cell_type": "markdown",
      "metadata": {
        "id": "PE93kgZn0yrH",
        "colab_type": "text"
      },
      "source": [
        "#Welcome\n",
        "\n",
        "This repository is for the Applied Data Science Capstone for the IBM professional data science certificate issued by Coursera.\n",
        "\n",
        "This notebook will be the first notebook for the Capstone."
      ]
    },
    {
      "cell_type": "code",
      "metadata": {
        "id": "dYj_a0_v0qRb",
        "colab_type": "code",
        "colab": {}
      },
      "source": [
        "import pandas as pd\n",
        "import numpy as np"
      ],
      "execution_count": 0,
      "outputs": []
    },
    {
      "cell_type": "code",
      "metadata": {
        "id": "g6jUP4OG1ZwI",
        "colab_type": "code",
        "colab": {
          "base_uri": "https://localhost:8080/",
          "height": 34
        },
        "outputId": "c1b8f5a3-9118-4367-d4f8-3a8f40eff0f1"
      },
      "source": [
        "print('Hello Capstone Project Course!')"
      ],
      "execution_count": 2,
      "outputs": [
        {
          "output_type": "stream",
          "text": [
            "Hello Capstone Project Course!\n"
          ],
          "name": "stdout"
        }
      ]
    }
  ]
}